{
 "cells": [
  {
   "cell_type": "markdown",
   "id": "318d8de3-1c79-470c-8644-15693b7f2c54",
   "metadata": {},
   "source": [
    "# API Usage"
   ]
  },
  {
   "cell_type": "code",
   "execution_count": null,
   "id": "0c2266e0-08d6-41a8-bc33-f2b264a88093",
   "metadata": {},
   "outputs": [],
   "source": [
    "import requests \n",
    "import json"
   ]
  },
  {
   "cell_type": "code",
   "execution_count": null,
   "id": "9918e6fd-34db-4504-b62c-f9dfec792b9a",
   "metadata": {},
   "outputs": [],
   "source": [
    "text = \"\"\"\n",
    "Vilniaus universitetas (trumpiau – VU) – seniausias ir didžiausias Lietuvos universitetas. Įkurtas 1579 m. Vilniuje jėzuitų po Lietuvos Didžiosios Kunigaikštystės kunigaikščio Stepono Batoro privilegijos suteikimo.\n",
    "\n",
    "Būdamas vienu seniausių ir žymiausių Vidurio ir Rytų Europos aukštųjų mokyklų, universitetas darė didelę įtaką ne tik Lietuvos, bet ir kaimyninių šalių kultūriniam gyvenimui, išugdė ne vieną mokslininkų, poetų, kultūros veikėjų kartą. Universitete profesoriavo ir mokėsi daug garsių asmenybių: medikai vokiečiai Johanas Frankas ir jo sūnus Jozefas Frankas, istorikas Joachimas Lelevelis, poetai Adomas Mickevičius ir Julius Slovackis, istorikas Simonas Daukantas, rašytojas, poetas ir literatūros mokslininkas Česlovas Milošas.\n",
    "\n",
    "XVI a. VU įkurtas sklindant renesanso, reformacijos ir katalikiškosios reformos idėjoms. Už VU anksčiau Rytų Europoje įkurti tik Prahos, Krokuvos, Pečo, Budapešto, Bratislavos ir Karaliaučiaus universitetai.\n",
    "\n",
    "\n",
    "Šiuo metu VU yra Europos universitetų Magna Charta signataras, Tarptautinės universitetų asociacijos, Europos universitetų asociacijos, Baltijos universitetų rektorių konferencijos, tarptautinių Utrechto, UNICA ir Baltijos jūros regiono universitetų tinklo narys. Nuo 2016 m. sausio 1 d. VU pakviestas į prestižinių universitetų tinklą – Koimbros grupę, o nuo 2019 m. priklauso Europos universitetų aljansui „ARQUS“. 2021 m. sausio 1 d., reorganizavus Šiaulių universitetą, įkurtas kamieninis akademinis padalinys – Šiaulių akademija.\n",
    "\n",
    "\n",
    "\"\"\""
   ]
  },
  {
   "cell_type": "code",
   "execution_count": null,
   "id": "76427ac4-2650-4f97-b739-8f1cccc44d0f",
   "metadata": {},
   "outputs": [],
   "source": [
    "# If you get 500 status code on the first try; wait a few seconds and try again\n",
    "# This is caused by the morphology container booting\n",
    "data = {\"text\":text}\n",
    "result = requests.post(\"http://localhost:5000/lemmatize\", data=data)\n",
    "result"
   ]
  },
  {
   "cell_type": "code",
   "execution_count": null,
   "id": "78311a81-4fb8-4512-9eec-8dd5cf22c952",
   "metadata": {},
   "outputs": [],
   "source": [
    "json.loads(result.text)"
   ]
  },
  {
   "cell_type": "markdown",
   "id": "f4592640-8a86-4d06-8fbd-014af1d93099",
   "metadata": {},
   "source": [
    "# Object Usage"
   ]
  },
  {
   "cell_type": "code",
   "execution_count": null,
   "id": "74ebd613-e4b1-4bd4-a0dd-56dafba2b078",
   "metadata": {},
   "outputs": [],
   "source": [
    "import os\n",
    "os.chdir(\"api/\")"
   ]
  },
  {
   "cell_type": "code",
   "execution_count": null,
   "id": "a7beb429-63ea-4270-bb43-066d46ed4d08",
   "metadata": {},
   "outputs": [],
   "source": [
    "from lemmatizer import Lemmatizer\n",
    "LEX = \"http://localhost:1123\"\n",
    "MORPH = \"http://localhost:1122/morphology\""
   ]
  },
  {
   "cell_type": "code",
   "execution_count": null,
   "id": "1982f542-2b03-4b40-86a3-3e774cf86d92",
   "metadata": {},
   "outputs": [],
   "source": [
    "text = \"\"\"\n",
    "Vilniaus universitetas (trumpiau – VU) – seniausias ir didžiausias Lietuvos universitetas. Įkurtas 1579 m. Vilniuje jėzuitų po Lietuvos Didžiosios Kunigaikštystės kunigaikščio Stepono Batoro privilegijos suteikimo.\n",
    "\n",
    "Būdamas vienu seniausių ir žymiausių Vidurio ir Rytų Europos aukštųjų mokyklų, universitetas darė didelę įtaką ne tik Lietuvos, bet ir kaimyninių šalių kultūriniam gyvenimui, išugdė ne vieną mokslininkų, poetų, kultūros veikėjų kartą. Universitete profesoriavo ir mokėsi daug garsių asmenybių: medikai vokiečiai Johanas Frankas ir jo sūnus Jozefas Frankas, istorikas Joachimas Lelevelis, poetai Adomas Mickevičius ir Julius Slovackis, istorikas Simonas Daukantas, rašytojas, poetas ir literatūros mokslininkas Česlovas Milošas.\n",
    "\n",
    "XVI a. VU įkurtas sklindant renesanso, reformacijos ir katalikiškosios reformos idėjoms. Už VU anksčiau Rytų Europoje įkurti tik Prahos, Krokuvos, Pečo, Budapešto, Bratislavos ir Karaliaučiaus universitetai.\n",
    "\n",
    "\n",
    "Šiuo metu VU yra Europos universitetų Magna Charta signataras, Tarptautinės universitetų asociacijos, Europos universitetų asociacijos, Baltijos universitetų rektorių konferencijos, tarptautinių Utrechto, UNICA ir Baltijos jūros regiono universitetų tinklo narys. Nuo 2016 m. sausio 1 d. VU pakviestas į prestižinių universitetų tinklą – Koimbros grupę, o nuo 2019 m. priklauso Europos universitetų aljansui „ARQUS“. 2021 m. sausio 1 d., reorganizavus Šiaulių universitetą, įkurtas kamieninis akademinis padalinys – Šiaulių akademija.\n",
    "\"\"\""
   ]
  },
  {
   "cell_type": "code",
   "execution_count": null,
   "id": "b21abed6-18bf-463b-8c29-abe4988a7ce5",
   "metadata": {},
   "outputs": [],
   "source": [
    "lem = Lemmatizer(LEX, MORPH)"
   ]
  },
  {
   "cell_type": "code",
   "execution_count": null,
   "id": "de9bda46-73da-4993-8a20-2039c927868e",
   "metadata": {},
   "outputs": [],
   "source": [
    "result = lem.lemmatize_text(text)\n",
    "result"
   ]
  },
  {
   "cell_type": "code",
   "execution_count": null,
   "id": "1675a4f7-05e3-4c20-9c0b-928d59e9af83",
   "metadata": {},
   "outputs": [],
   "source": []
  }
 ],
 "metadata": {
  "kernelspec": {
   "display_name": "Python 3",
   "language": "python",
   "name": "python3"
  },
  "language_info": {
   "codemirror_mode": {
    "name": "ipython",
    "version": 3
   },
   "file_extension": ".py",
   "mimetype": "text/x-python",
   "name": "python",
   "nbconvert_exporter": "python",
   "pygments_lexer": "ipython3",
   "version": "3.8.8"
  }
 },
 "nbformat": 4,
 "nbformat_minor": 5
}
